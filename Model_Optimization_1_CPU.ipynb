{
  "cells": [
    {
      "cell_type": "markdown",
      "metadata": {
        "id": "633R2t1KHKds"
      },
      "source": [
        "# Model Optimization Test - 훈련 후 양자화\n",
        "\n",
        "훈련 후 양자화 적용\n",
        "\n",
        "ResNet / CIFAR-10 데이터셋으로 실험\n",
        "\n",
        "TFLite에서는 4가지의 양자화 유형을 지원함\n",
        "\n",
        "1. 훈련 후 float16 양자화\n",
        "2. 훈련 후 동적 범위 양자화\n",
        "3. 훈련 후 정수 양자화\n",
        "4. 양자화 인식 훈련\n",
        "\n",
        "이번 노트북에서는 양자화 인식 훈련을 진행하지 않은 모델에 1, 2, 3을 적용하여 모델을 최적화 함.\n",
        "\n",
        "float16, 동적 범위의 경우 추가적인 데이터가 필요하지 않지만, 정수 양자화의 경우 대표 샘플이 필요함.\n",
        "\n",
        "Colab GPU에서 모델 훈련 후 Colab의 CPU에서 실험"
      ]
    },
    {
      "cell_type": "markdown",
      "metadata": {
        "id": "4YDbYf816I0A"
      },
      "source": [
        "# Setting"
      ]
    },
    {
      "cell_type": "code",
      "execution_count": null,
      "metadata": {
        "id": "sHtdbg6M6FI1"
      },
      "outputs": [],
      "source": [
        "import numpy as np\n",
        "import pandas as pd\n",
        "import matplotlib.pyplot as plt\n",
        "import seaborn as sns\n",
        "import time\n",
        "from pathlib import Path\n",
        "\n",
        "import keras\n",
        "import tensorflow as tf\n",
        "\n",
        "from sklearn.metrics import accuracy_score"
      ]
    },
    {
      "cell_type": "code",
      "execution_count": null,
      "metadata": {
        "colab": {
          "base_uri": "https://localhost:8080/"
        },
        "id": "43vLGP-sOCZG",
        "outputId": "5404bf74-05f8-44b3-a1be-4faf097a331e"
      },
      "outputs": [
        {
          "name": "stdout",
          "output_type": "stream",
          "text": [
            "Downloading data from https://www.cs.toronto.edu/~kriz/cifar-10-python.tar.gz\n",
            "170498071/170498071 [==============================] - 5s 0us/step\n"
          ]
        }
      ],
      "source": [
        "# CIFAR-10 dataset\n",
        "(X_train, y_train), (X_test, y_test) = keras.datasets.cifar10.load_data()"
      ]
    },
    {
      "cell_type": "code",
      "execution_count": null,
      "metadata": {
        "id": "UyWjP_9390SJ"
      },
      "outputs": [],
      "source": [
        "batch_size = 64\n",
        "\n",
        "train_set = tf.data.Dataset.from_tensor_slices((X_train, y_train))\n",
        "test_set = tf.data.Dataset.from_tensor_slices((X_test, y_test))\n",
        "\n",
        "preprocess = keras.Sequential([\n",
        "    keras.layers.Resizing(height=224, width=224, crop_to_aspect_ratio=True),\n",
        "    keras.layers.Lambda(tf.keras.applications.resnet50.preprocess_input)\n",
        "])\n",
        "\n",
        "train_set = train_set.map(lambda X, y: (preprocess(X), y)).batch(batch_size).prefetch(1)\n",
        "test_set = test_set.map(lambda X, y: (preprocess(X), y)).batch(batch_size)"
      ]
    },
    {
      "cell_type": "markdown",
      "metadata": {
        "id": "PAaZSnm_-BbM"
      },
      "source": [
        "# Base Model"
      ]
    },
    {
      "cell_type": "markdown",
      "metadata": {
        "id": "XR0hqZ2y9J06"
      },
      "source": [
        "## Train"
      ]
    },
    {
      "cell_type": "code",
      "execution_count": null,
      "metadata": {
        "colab": {
          "base_uri": "https://localhost:8080/"
        },
        "id": "w_pyWsyE6uwX",
        "outputId": "ecb0b637-9dd2-4d7a-ad3d-8dffd2f8d2ca"
      },
      "outputs": [
        {
          "name": "stdout",
          "output_type": "stream",
          "text": [
            "Downloading data from https://storage.googleapis.com/tensorflow/keras-applications/resnet/resnet50_weights_tf_dim_ordering_tf_kernels_notop.h5\n",
            "94765736/94765736 [==============================] - 0s 0us/step\n"
          ]
        }
      ],
      "source": [
        "# Transfer Learning\n",
        "# ResNet50\n",
        "resnet = keras.applications.ResNet50(weights=\"imagenet\", include_top=False, input_shape=(224, 224, 3))\n",
        "\n",
        "n_classes = 10\n",
        "\n",
        "avg = keras.layers.GlobalAveragePooling2D()(resnet.output)\n",
        "output = keras.layers.Dense(n_classes, activation=\"softmax\")(avg)\n",
        "\n",
        "model = keras.Model(inputs=resnet.input, outputs=output)"
      ]
    },
    {
      "cell_type": "code",
      "execution_count": null,
      "metadata": {
        "id": "ayR5bzlVDlAm"
      },
      "outputs": [],
      "source": [
        "model.summary()"
      ]
    },
    {
      "cell_type": "code",
      "execution_count": null,
      "metadata": {
        "colab": {
          "base_uri": "https://localhost:8080/"
        },
        "id": "WivXsU7vAB04",
        "outputId": "f95ca987-4875-4f02-d572-1ea0a6a96595"
      },
      "outputs": [
        {
          "name": "stdout",
          "output_type": "stream",
          "text": [
            "782/782 [==============================] - 193s 238ms/step - loss: 0.2727 - accuracy: 0.9049 - val_loss: 0.3007 - val_accuracy: 0.8983\n"
          ]
        }
      ],
      "source": [
        "for layer in resnet.layers:\n",
        "    layer.trainable = False\n",
        "\n",
        "optimizer = tf.keras.optimizers.Adam()\n",
        "model.compile(loss=\"sparse_categorical_crossentropy\", optimizer=optimizer, metrics=[\"accuracy\"])\n",
        "\n",
        "history = model.fit(train_set, validation_data=test_set, epochs=1)"
      ]
    },
    {
      "cell_type": "code",
      "execution_count": null,
      "metadata": {
        "id": "vM759RwoOy7D"
      },
      "outputs": [],
      "source": [
        "# model save\n",
        "model_name = 'Base_Model'\n",
        "model_path = '/content/drive/MyDrive' / Path(model_name)\n",
        "model.save(model_path, save_format=\"tf\")"
      ]
    },
    {
      "cell_type": "markdown",
      "metadata": {
        "id": "HN24SwR-9NFB"
      },
      "source": [
        "## Test"
      ]
    },
    {
      "cell_type": "code",
      "execution_count": null,
      "metadata": {
        "id": "1UG-MGn39PCN"
      },
      "outputs": [],
      "source": [
        "model_name = 'Base_Model'\n",
        "model_path = '/content/drive/MyDrive' / Path(model_name)\n",
        "\n",
        "model = keras.models.load_model(model_path)"
      ]
    },
    {
      "cell_type": "code",
      "execution_count": null,
      "metadata": {
        "id": "SNefkHEBRW-q"
      },
      "outputs": [],
      "source": [
        "# Add preprocess\n",
        "base_model = keras.Sequential([preprocess, model])"
      ]
    },
    {
      "cell_type": "code",
      "execution_count": null,
      "metadata": {
        "id": "ATe8W03P_PKH"
      },
      "outputs": [],
      "source": [
        "Acc_results = {'base_model': [],\n",
        "               'tflite': [],\n",
        "               'dynamic_quant': [],\n",
        "               'float16_quant': [],\n",
        "               'int_quant': []}\n",
        "\n",
        "Time_results = {'base_model': [],\n",
        "               'tflite': [],\n",
        "               'dynamic_quant': [],\n",
        "               'float16_quant': [],\n",
        "               'int_quant': []}"
      ]
    },
    {
      "cell_type": "code",
      "execution_count": null,
      "metadata": {
        "colab": {
          "base_uri": "https://localhost:8080/"
        },
        "id": "ddyrLsVT_Pkd",
        "outputId": "78922ff6-305c-48d0-ae1b-796a376cea27"
      },
      "outputs": [
        {
          "name": "stdout",
          "output_type": "stream",
          "text": [
            "Base Model Accuracy (CPU): 0.898000\n",
            "Base Model Inference Time (CPU): 184.836990\n"
          ]
        }
      ],
      "source": [
        "n_iter = 5\n",
        "\n",
        "for iter in range(n_iter):\n",
        "    start_time = time.time()\n",
        "\n",
        "    y_pred = []\n",
        "\n",
        "    for x in X_test[:500]:\n",
        "        pred = np.argmax(base_model(np.expand_dims(x, axis=0)))\n",
        "        y_pred.append(pred)\n",
        "\n",
        "    Acc_results['base_model'].append(accuracy_score(y_test[:500], y_pred))\n",
        "    end_time = time.time()\n",
        "\n",
        "    Time_results['base_model'].append(end_time - start_time)\n",
        "\n",
        "print('Base Model Accuracy (CPU): %f' %(np.mean(Acc_results['base_model'])))\n",
        "print('Base Model Inference Time (CPU): %f' %(np.mean(Time_results['base_model'])))"
      ]
    },
    {
      "cell_type": "markdown",
      "metadata": {
        "id": "qmCycBGgPO6R"
      },
      "source": [
        "# TFLite"
      ]
    },
    {
      "cell_type": "markdown",
      "metadata": {
        "id": "-a6AuLN_Rqn8"
      },
      "source": [
        "TFLite를 사용한 base_model 경량화"
      ]
    },
    {
      "cell_type": "code",
      "execution_count": null,
      "metadata": {
        "colab": {
          "base_uri": "https://localhost:8080/"
        },
        "id": "qnmEcjXnA4Dw",
        "outputId": "baf93ed0-0676-4047-c0fc-27119289f335"
      },
      "outputs": [
        {
          "data": {
            "text/plain": [
              "94049004"
            ]
          },
          "execution_count": 8,
          "metadata": {},
          "output_type": "execute_result"
        }
      ],
      "source": [
        "converter = tf.lite.TFLiteConverter.from_keras_model(base_model)\n",
        "tflite_model = converter.convert()\n",
        "\n",
        "tflite_models_dir = Path(\"tflite_models/\")\n",
        "tflite_models_dir.mkdir(exist_ok=True, parents=True)\n",
        "\n",
        "tflite_model_file = tflite_models_dir/\"base_model.tflite\"\n",
        "tflite_model_file.write_bytes(tflite_model)"
      ]
    },
    {
      "cell_type": "code",
      "execution_count": null,
      "metadata": {
        "colab": {
          "base_uri": "https://localhost:8080/"
        },
        "id": "iRWVAdCbA4B2",
        "outputId": "8d0bd745-58fa-4d9e-aaa8-3e7eaa2e9530"
      },
      "outputs": [
        {
          "data": {
            "text/plain": [
              "array([[2.6069383e-06, 6.6211354e-04, 1.3438077e-04, 9.9387336e-01,\n",
              "        3.2347896e-07, 5.2271276e-03, 3.4800763e-05, 2.9433845e-06,\n",
              "        8.4103085e-06, 5.3893800e-05]], dtype=float32)"
            ]
          },
          "execution_count": 9,
          "metadata": {},
          "output_type": "execute_result"
        }
      ],
      "source": [
        "# one sample test\n",
        "interpreter_tflite = tf.lite.Interpreter(model_path=str(tflite_model_file))\n",
        "interpreter_tflite.allocate_tensors()\n",
        "\n",
        "test_image = np.expand_dims(X_test[0], axis=0)\n",
        "\n",
        "input_index = interpreter_tflite.get_input_details()[0][\"index\"]\n",
        "output_index = interpreter_tflite.get_output_details()[0][\"index\"]\n",
        "\n",
        "interpreter_tflite.set_tensor(input_index, test_image)\n",
        "interpreter_tflite.invoke()\n",
        "predictions = interpreter_tflite.get_tensor(output_index)\n",
        "\n",
        "predictions"
      ]
    },
    {
      "cell_type": "code",
      "execution_count": null,
      "metadata": {
        "colab": {
          "base_uri": "https://localhost:8080/"
        },
        "id": "gSs_bM5GBObe",
        "outputId": "d0475820-1552-4918-906f-c55bd3288eb0"
      },
      "outputs": [
        {
          "name": "stdout",
          "output_type": "stream",
          "text": [
            "TFLite Accuracy (CPU): 0.898000\n",
            "TFLite Inference Time (CPU): 86.163692\n"
          ]
        }
      ],
      "source": [
        "n_iter = 5\n",
        "\n",
        "input_index = interpreter_tflite.get_input_details()[0][\"index\"]\n",
        "output_index = interpreter_tflite.get_output_details()[0][\"index\"]\n",
        "\n",
        "for iter in range(n_iter):\n",
        "    start_time = time.time()\n",
        "\n",
        "    y_pred = []\n",
        "\n",
        "    for x in X_test[:500]:\n",
        "        x = np.expand_dims(x, axis=0)\n",
        "        interpreter_tflite.set_tensor(input_index, x)\n",
        "\n",
        "        interpreter_tflite.invoke()\n",
        "\n",
        "        output = interpreter_tflite.tensor(output_index)\n",
        "        pred = np.argmax(output()[0])\n",
        "        y_pred.append(pred)\n",
        "\n",
        "    Acc_results['tflite'].append(accuracy_score(y_test[:500], y_pred))\n",
        "    end_time = time.time()\n",
        "\n",
        "    Time_results['tflite'].append(end_time - start_time)\n",
        "\n",
        "print('TFLite Accuracy (CPU): %f' %(np.mean(Acc_results['tflite'])))\n",
        "print('TFLite Inference Time (CPU): %f' %(np.mean(Time_results['tflite'])))"
      ]
    },
    {
      "cell_type": "markdown",
      "metadata": {
        "id": "Tz5Qlt2sPQcC"
      },
      "source": [
        "# 훈련 후 동적 범위 양자화"
      ]
    },
    {
      "cell_type": "markdown",
      "metadata": {
        "id": "M1c47FCJ2VlN"
      },
      "source": [
        "동적 범위 양자화는 모델 크기를 4배 줄입니다."
      ]
    },
    {
      "cell_type": "code",
      "execution_count": null,
      "metadata": {
        "colab": {
          "base_uri": "https://localhost:8080/"
        },
        "id": "JF5uCcSL1KRC",
        "outputId": "3435609c-98e7-40e3-c1e2-14e00b077420"
      },
      "outputs": [
        {
          "data": {
            "text/plain": [
              "23942680"
            ]
          },
          "execution_count": 11,
          "metadata": {},
          "output_type": "execute_result"
        }
      ],
      "source": [
        "converter = tf.lite.TFLiteConverter.from_keras_model(base_model)\n",
        "converter.optimizations = [tf.lite.Optimize.DEFAULT]\n",
        "tflite_dynamic_quant_model = converter.convert()\n",
        "\n",
        "tflite_model_dynamic_quant_file = tflite_models_dir/\"dynamic_quant_model.tflite\"\n",
        "tflite_model_dynamic_quant_file.write_bytes(tflite_dynamic_quant_model)"
      ]
    },
    {
      "cell_type": "code",
      "execution_count": null,
      "metadata": {
        "colab": {
          "base_uri": "https://localhost:8080/"
        },
        "id": "UMxdloAe1KPM",
        "outputId": "3d069138-4094-48bb-97d6-dc6737ee9c40"
      },
      "outputs": [
        {
          "data": {
            "text/plain": [
              "array([[3.81137806e-06, 1.00892270e-03, 1.36831179e-04, 9.93450999e-01,\n",
              "        4.02635237e-07, 5.23553835e-03, 7.06569408e-05, 3.57472641e-06,\n",
              "        1.51993345e-05, 7.40356918e-05]], dtype=float32)"
            ]
          },
          "execution_count": 12,
          "metadata": {},
          "output_type": "execute_result"
        }
      ],
      "source": [
        "# one sample test\n",
        "interpreter_dynamic = tf.lite.Interpreter(model_path=str(tflite_model_dynamic_quant_file))\n",
        "interpreter_dynamic.allocate_tensors()\n",
        "\n",
        "test_image = np.expand_dims(X_test[0], axis=0)\n",
        "\n",
        "input_index = interpreter_dynamic.get_input_details()[0][\"index\"]\n",
        "output_index = interpreter_dynamic.get_output_details()[0][\"index\"]\n",
        "\n",
        "interpreter_dynamic.set_tensor(input_index, test_image)\n",
        "interpreter_dynamic.invoke()\n",
        "predictions = interpreter_dynamic.get_tensor(output_index)\n",
        "\n",
        "predictions"
      ]
    },
    {
      "cell_type": "code",
      "execution_count": null,
      "metadata": {
        "colab": {
          "base_uri": "https://localhost:8080/"
        },
        "id": "z5ZD11a-1KNI",
        "outputId": "1fdc7917-3a94-45d5-d63a-fa1d4ba69a9e"
      },
      "outputs": [
        {
          "name": "stdout",
          "output_type": "stream",
          "text": [
            "Dynamic Quant Accuracy (CPU): 0.904000\n",
            "Dynamic Quant Inference Time (CPU): 155.201613\n"
          ]
        }
      ],
      "source": [
        "n_iter = 5\n",
        "\n",
        "input_index = interpreter_dynamic.get_input_details()[0][\"index\"]\n",
        "output_index = interpreter_dynamic.get_output_details()[0][\"index\"]\n",
        "\n",
        "for iter in range(n_iter):\n",
        "    start_time = time.time()\n",
        "\n",
        "    y_pred = []\n",
        "\n",
        "    for x in X_test[:500]:\n",
        "        x = np.expand_dims(x, axis=0)\n",
        "        interpreter_dynamic.set_tensor(input_index, x)\n",
        "\n",
        "        interpreter_dynamic.invoke()\n",
        "\n",
        "        output = interpreter_dynamic.tensor(output_index)\n",
        "        pred = np.argmax(output()[0])\n",
        "        y_pred.append(pred)\n",
        "\n",
        "    Acc_results['dynamic_quant'].append(accuracy_score(y_test[:500], y_pred))\n",
        "    end_time = time.time()\n",
        "\n",
        "    Time_results['dynamic_quant'].append(end_time - start_time)\n",
        "\n",
        "print('Dynamic Quant Accuracy (CPU): %f' %(np.mean(Acc_results['dynamic_quant'])))\n",
        "print('Dynamic Quant Inference Time (CPU): %f' %(np.mean(Time_results['dynamic_quant'])))"
      ]
    },
    {
      "cell_type": "markdown",
      "metadata": {
        "id": "QTu-loU8PQaA"
      },
      "source": [
        "# 훈련 후 float16 양자화"
      ]
    },
    {
      "cell_type": "markdown",
      "metadata": {
        "id": "DWyTh1Iq40gy"
      },
      "source": [
        "모델 크기가 2배 감소합니다."
      ]
    },
    {
      "cell_type": "code",
      "execution_count": null,
      "metadata": {
        "colab": {
          "base_uri": "https://localhost:8080/"
        },
        "id": "UuwpLsR11K0f",
        "outputId": "7ac02096-c0e9-4230-dac9-7c7ccc04deb3"
      },
      "outputs": [
        {
          "data": {
            "text/plain": [
              "47061036"
            ]
          },
          "execution_count": 14,
          "metadata": {},
          "output_type": "execute_result"
        }
      ],
      "source": [
        "converter = tf.lite.TFLiteConverter.from_keras_model(base_model)\n",
        "converter.optimizations = [tf.lite.Optimize.DEFAULT]\n",
        "converter.target_spec.supported_types = [tf.float16]\n",
        "tflite_float16_quant_model = converter.convert()\n",
        "\n",
        "tflite_model_float16_quant_file = tflite_models_dir/\"float16_quant_model.tflite\"\n",
        "tflite_model_float16_quant_file.write_bytes(tflite_float16_quant_model)"
      ]
    },
    {
      "cell_type": "code",
      "execution_count": null,
      "metadata": {
        "colab": {
          "base_uri": "https://localhost:8080/"
        },
        "id": "uwjMBpah1Kyg",
        "outputId": "9328c909-f9b1-4fbb-fa46-cd494a9659aa"
      },
      "outputs": [
        {
          "data": {
            "text/plain": [
              "array([[2.6378325e-06, 6.6831586e-04, 1.3487371e-04, 9.9382728e-01,\n",
              "        3.2584984e-07, 5.2649751e-03, 3.5089550e-05, 2.9694456e-06,\n",
              "        8.4877283e-06, 5.5123648e-05]], dtype=float32)"
            ]
          },
          "execution_count": 15,
          "metadata": {},
          "output_type": "execute_result"
        }
      ],
      "source": [
        "# one sample test\n",
        "interpreter_f16 = tf.lite.Interpreter(model_path=str(tflite_model_float16_quant_file))\n",
        "interpreter_f16.allocate_tensors()\n",
        "\n",
        "test_image = np.expand_dims(X_test[0], axis=0)\n",
        "\n",
        "input_index = interpreter_f16.get_input_details()[0][\"index\"]\n",
        "output_index = interpreter_f16.get_output_details()[0][\"index\"]\n",
        "\n",
        "interpreter_f16.set_tensor(input_index, test_image)\n",
        "interpreter_f16.invoke()\n",
        "predictions = interpreter_f16.get_tensor(output_index)\n",
        "\n",
        "predictions"
      ]
    },
    {
      "cell_type": "code",
      "execution_count": null,
      "metadata": {
        "colab": {
          "base_uri": "https://localhost:8080/"
        },
        "id": "AaODs2hp1KwS",
        "outputId": "3be179f6-10e2-4717-a034-23feef252151"
      },
      "outputs": [
        {
          "name": "stdout",
          "output_type": "stream",
          "text": [
            "Float16 Quant Accuracy (CPU): 0.898000\n",
            "Float16 Quant Inference Time (CPU): 86.649521\n"
          ]
        }
      ],
      "source": [
        "n_iter = 5\n",
        "\n",
        "input_index = interpreter_f16.get_input_details()[0][\"index\"]\n",
        "output_index = interpreter_f16.get_output_details()[0][\"index\"]\n",
        "\n",
        "for iter in range(n_iter):\n",
        "    start_time = time.time()\n",
        "\n",
        "    y_pred = []\n",
        "\n",
        "    for x in X_test[:500]:\n",
        "        x = np.expand_dims(x, axis=0)\n",
        "        interpreter_f16.set_tensor(input_index, x)\n",
        "\n",
        "        interpreter_f16.invoke()\n",
        "\n",
        "        output = interpreter_f16.tensor(output_index)\n",
        "        pred = np.argmax(output()[0])\n",
        "        y_pred.append(pred)\n",
        "\n",
        "    Acc_results['float16_quant'].append(accuracy_score(y_test[:500], y_pred))\n",
        "    end_time = time.time()\n",
        "\n",
        "    Time_results['float16_quant'].append(end_time - start_time)\n",
        "\n",
        "print('Float16 Quant Accuracy (CPU): %f' %(np.mean(Acc_results['float16_quant'])))\n",
        "print('Float16 Quant Inference Time (CPU): %f' %(np.mean(Time_results['float16_quant'])))"
      ]
    },
    {
      "cell_type": "markdown",
      "metadata": {
        "id": "3jYVbrPWPQYJ"
      },
      "source": [
        "# 훈련 후 정수 양자화"
      ]
    },
    {
      "cell_type": "code",
      "execution_count": null,
      "metadata": {
        "colab": {
          "base_uri": "https://localhost:8080/"
        },
        "id": "n2vNIym7OxkR",
        "outputId": "4a979ff5-7a14-4b7f-eb8a-f48890d78a69"
      },
      "outputs": [
        {
          "name": "stderr",
          "output_type": "stream",
          "text": [
            "/usr/local/lib/python3.10/dist-packages/tensorflow/lite/python/convert.py:953: UserWarning: Statistics for quantized inputs were expected, but not specified; continuing anyway.\n",
            "  warnings.warn(\n"
          ]
        },
        {
          "name": "stdout",
          "output_type": "stream",
          "text": [
            "input:  <class 'numpy.uint8'>\n",
            "output:  <class 'numpy.uint8'>\n"
          ]
        },
        {
          "data": {
            "text/plain": [
              "24265736"
            ]
          },
          "execution_count": 17,
          "metadata": {},
          "output_type": "execute_result"
        }
      ],
      "source": [
        "def representative_data_gen():\n",
        "    for input_value in tf.data.Dataset.from_tensor_slices(X_train).batch(1).take(100):\n",
        "        yield [input_value]\n",
        "\n",
        "converter = tf.lite.TFLiteConverter.from_keras_model(base_model)\n",
        "converter.optimizations = [tf.lite.Optimize.DEFAULT]\n",
        "converter.representative_dataset = representative_data_gen\n",
        "converter.target_spec.supported_ops = [tf.lite.OpsSet.TFLITE_BUILTINS_INT8]\n",
        "converter.inference_input_type = tf.uint8\n",
        "converter.inference_output_type = tf.uint8\n",
        "\n",
        "tflite_int_quant_model = converter.convert()\n",
        "\n",
        "interpreter_int = tf.lite.Interpreter(model_content=tflite_int_quant_model)\n",
        "input_type = interpreter_int.get_input_details()[0]['dtype']\n",
        "print('input: ', input_type)\n",
        "output_type = interpreter_int.get_output_details()[0]['dtype']\n",
        "print('output: ', output_type)\n",
        "\n",
        "tflite_model_int_quant_file = tflite_models_dir/\"int_quant_model.tflite\"\n",
        "tflite_model_int_quant_file.write_bytes(tflite_int_quant_model)"
      ]
    },
    {
      "cell_type": "code",
      "execution_count": null,
      "metadata": {
        "colab": {
          "base_uri": "https://localhost:8080/"
        },
        "id": "3xlHcHb98Lj5",
        "outputId": "de73cdf4-a2f9-4360-f644-5640151dec1b"
      },
      "outputs": [
        {
          "data": {
            "text/plain": [
              "array([[  0,   0,   0, 254,   0,   2,   0,   0,   0,   0]], dtype=uint8)"
            ]
          },
          "execution_count": 18,
          "metadata": {},
          "output_type": "execute_result"
        }
      ],
      "source": [
        "# one sample test\n",
        "interpreter_int = tf.lite.Interpreter(model_path=str(tflite_model_int_quant_file))\n",
        "interpreter_int.allocate_tensors()\n",
        "\n",
        "test_image = np.expand_dims(X_test[0], axis=0)\n",
        "\n",
        "input_index = interpreter_int.get_input_details()[0][\"index\"]\n",
        "output_index = interpreter_int.get_output_details()[0][\"index\"]\n",
        "\n",
        "interpreter_int.set_tensor(input_index, test_image)\n",
        "interpreter_int.invoke()\n",
        "predictions = interpreter_int.get_tensor(output_index)\n",
        "\n",
        "predictions"
      ]
    },
    {
      "cell_type": "code",
      "execution_count": null,
      "metadata": {
        "colab": {
          "base_uri": "https://localhost:8080/"
        },
        "id": "C48Wny5x8TvZ",
        "outputId": "cecc99a6-e61e-4980-8286-6f222bee0c79"
      },
      "outputs": [
        {
          "name": "stdout",
          "output_type": "stream",
          "text": [
            "Int Quant Accuracy (CPU): 0.894000\n",
            "Int Quant Inference Time (CPU): 85.662904\n"
          ]
        }
      ],
      "source": [
        "n_iter = 5\n",
        "\n",
        "input_index = interpreter_int.get_input_details()[0][\"index\"]\n",
        "output_index = interpreter_int.get_output_details()[0][\"index\"]\n",
        "\n",
        "for iter in range(n_iter):\n",
        "    start_time = time.time()\n",
        "\n",
        "    y_pred = []\n",
        "\n",
        "    for x in X_test[:500]:\n",
        "        x = np.expand_dims(x, axis=0)\n",
        "        interpreter_int.set_tensor(input_index, x)\n",
        "\n",
        "        interpreter_int.invoke()\n",
        "\n",
        "        output = interpreter_int.tensor(output_index)\n",
        "        pred = np.argmax(output()[0])\n",
        "        y_pred.append(pred)\n",
        "\n",
        "    Acc_results['int_quant'].append(accuracy_score(y_test[:500], y_pred))\n",
        "    end_time = time.time()\n",
        "\n",
        "    Time_results['int_quant'].append(end_time - start_time)\n",
        "\n",
        "print('Int Quant Accuracy (CPU): %f' %(np.mean(Acc_results['int_quant'])))\n",
        "print('Int Quant Inference Time (CPU): %f' %(np.mean(Time_results['int_quant'])))"
      ]
    },
    {
      "cell_type": "markdown",
      "metadata": {
        "id": "WSrdjz2vN2Sk"
      },
      "source": [
        "# Overall"
      ]
    },
    {
      "cell_type": "code",
      "execution_count": null,
      "metadata": {
        "colab": {
          "base_uri": "https://localhost:8080/",
          "height": 445
        },
        "id": "YRqhzHnw8X44",
        "outputId": "f529985c-c2a4-4a24-b7c6-82cb87dce87a"
      },
      "outputs": [
        {
          "data": {
            "image/png": "[encoded data removed]",
            "text/plain": [
              "<Figure size 700x500 with 1 Axes>"
            ]
          },
          "metadata": {},
          "output_type": "display_data"
        }
      ],
      "source": [
        "pd.DataFrame(Acc_results).boxplot(figsize=(7, 5))\n",
        "plt.show()"
      ]
    },
    {
      "cell_type": "code",
      "execution_count": null,
      "metadata": {
        "colab": {
          "base_uri": "https://localhost:8080/",
          "height": 445
        },
        "id": "x2UE3UASD6gi",
        "outputId": "164b0976-4beb-4f54-9881-1d115b136ba4"
      },
      "outputs": [
        {
          "data": {
            "image/png": "[encoded data removed]",
            "text/plain": [
              "<Figure size 700x500 with 1 Axes>"
            ]
          },
          "metadata": {},
          "output_type": "display_data"
        }
      ],
      "source": [
        "pd.DataFrame(Time_results).boxplot(figsize=(7, 5))\n",
        "plt.show()"
      ]
    },
    {
      "cell_type": "code",
      "execution_count": null,
      "metadata": {
        "id": "gzQXXuj-FHfj"
      },
      "outputs": [],
      "source": [
        "import math\n",
        "import os\n",
        "\n",
        "def convert_size(size_bytes):\n",
        "   if size_bytes == 0:\n",
        "       return \"0B\"\n",
        "   size_name = (\"B\", \"KB\", \"MB\", \"GB\", \"TB\", \"PB\", \"EB\", \"ZB\", \"YB\")\n",
        "   i = int(math.floor(math.log(size_bytes, 1024)))\n",
        "   p = math.pow(1024, i)\n",
        "   s = round(size_bytes / p, 2)\n",
        "   return \"%s %s\" % (s, size_name[i])\n",
        "\n",
        "def get_dir_size(path='.'):\n",
        "    total = 0\n",
        "    with os.scandir(path) as it:\n",
        "        for entry in it:\n",
        "            if entry.is_file():\n",
        "                total += entry.stat().st_size\n",
        "            elif entry.is_dir():\n",
        "                total += get_dir_size(entry.path)\n",
        "    return total"
      ]
    },
    {
      "cell_type": "code",
      "execution_count": null,
      "metadata": {
        "colab": {
          "base_uri": "https://localhost:8080/"
        },
        "id": "-zm8zbYOEV13",
        "outputId": "9926bf22-81bd-40dc-9ad7-9970dd6702f7"
      },
      "outputs": [
        {
          "name": "stdout",
          "output_type": "stream",
          "text": [
            "Base Model Size: 93.43 MB bytes\n",
            "TFLite Size: 89.69 MB bytes\n",
            "Dynamic Quant Size: 22.83 MB bytes\n",
            "Float16 Quant Size: 44.88 MB bytes\n",
            "Int Quant Size: 23.14 MB bytes\n"
          ]
        }
      ],
      "source": [
        "base_model_size = get_dir_size('/content/drive/MyDrive/Base_Model')\n",
        "tflite_size = os.path.getsize('/content/tflite_models/base_model.tflite')\n",
        "dynamic_quant_size = os.path.getsize('/content/tflite_models/dynamic_quant_model.tflite')\n",
        "float16_quant_size = os.path.getsize('/content/tflite_models/float16_quant_model.tflite')\n",
        "int_quant_size = os.path.getsize('/content/tflite_models/int_quant_model.tflite')\n",
        "\n",
        "print('Base Model Size:', convert_size(base_model_size), 'bytes')\n",
        "print('TFLite Size:', convert_size(tflite_size), 'bytes')\n",
        "print('Dynamic Quant Size:', convert_size(dynamic_quant_size), 'bytes')\n",
        "print('Float16 Quant Size:', convert_size(float16_quant_size), 'bytes')\n",
        "print('Int Quant Size:', convert_size(int_quant_size), 'bytes')"
      ]
    }
  ],
  "metadata": {
    "colab": {
      "collapsed_sections": [
        "XR0hqZ2y9J06"
      ],
      "provenance": []
    },
    "kernelspec": {
      "display_name": "Python 3",
      "name": "python3"
    },
    "language_info": {
      "name": "python"
    }
  },
  "nbformat": 4,
  "nbformat_minor": 0
}
