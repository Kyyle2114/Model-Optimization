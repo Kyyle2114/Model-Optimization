{
  "nbformat": 4,
  "nbformat_minor": 0,
  "metadata": {
    "colab": {
      "provenance": [],
      "gpuType": "T4"
    },
    "kernelspec": {
      "name": "python3",
      "display_name": "Python 3"
    },
    "language_info": {
      "name": "python"
    },
    "accelerator": "GPU"
  },
  "cells": [
    {
      "cell_type": "markdown",
      "source": [
        "# Model Optimization Test - 양자화 인식 훈련\n",
        "\n",
        "양자화 인식 훈련 적용\n",
        "\n",
        "MNIST 데이터셋으로 실험\n",
        "\n",
        "TFLite에서는 4가지의 양자화 유형을 지원함\n",
        "\n",
        "1. 훈련 후 float16 양자화\n",
        "2. 훈련 후 동적 범위 양자화\n",
        "3. 훈련 후 정수 양자화\n",
        "4. 양자화 인식 훈련\n",
        "\n",
        "이번 노트북에서는 양자화 인식 훈련을 진행한 모델에 1, 2, 3을 적용하여 모델을  최적화 함.\n",
        "\n",
        "float16, 동적 범위의 경우 추가적인 데이터가 필요하지 않지만, 정수 양자화의 경우 대표 샘플이 필요함.\n",
        "\n",
        "Colab GPU에서 모델 훈련 후 Colab의 GPU에서 실험"
      ],
      "metadata": {
        "id": "633R2t1KHKds"
      }
    },
    {
      "cell_type": "markdown",
      "source": [
        "# Setting"
      ],
      "metadata": {
        "id": "4YDbYf816I0A"
      }
    },
    {
      "cell_type": "code",
      "source": [
        "!pip install -q tensorflow-model-optimization"
      ],
      "metadata": {
        "id": "wcf-xE21Jjiw",
        "colab": {
          "base_uri": "https://localhost:8080/"
        },
        "outputId": "b6378817-2328-440a-e050-d5163771f128"
      },
      "execution_count": null,
      "outputs": [
        {
          "output_type": "stream",
          "name": "stdout",
          "text": [
            "\u001b[?25l     \u001b[90m━━━━━━━━━━━━━━━━━━━━━━━━━━━━━━━━━━━━━━━━\u001b[0m \u001b[32m0.0/241.2 kB\u001b[0m \u001b[31m?\u001b[0m eta \u001b[36m-:--:--\u001b[0m\r\u001b[2K     \u001b[91m━━━━━\u001b[0m\u001b[90m╺\u001b[0m\u001b[90m━━━━━━━━━━━━━━━━━━━━━━━━━━━━━━━━━━\u001b[0m \u001b[32m30.7/241.2 kB\u001b[0m \u001b[31m1.6 MB/s\u001b[0m eta \u001b[36m0:00:01\u001b[0m\r\u001b[2K     \u001b[91m━━━━━━━━━━━━━━━\u001b[0m\u001b[90m╺\u001b[0m\u001b[90m━━━━━━━━━━━━━━━━━━━━━━━━\u001b[0m \u001b[32m92.2/241.2 kB\u001b[0m \u001b[31m1.2 MB/s\u001b[0m eta \u001b[36m0:00:01\u001b[0m\r\u001b[2K     \u001b[91m━━━━━━━━━━━━━━━━━━━━━━━━━━━━━━━━━━━━━━━\u001b[0m\u001b[90m╺\u001b[0m \u001b[32m235.5/241.2 kB\u001b[0m \u001b[31m2.3 MB/s\u001b[0m eta \u001b[36m0:00:01\u001b[0m\r\u001b[2K     \u001b[90m━━━━━━━━━━━━━━━━━━━━━━━━━━━━━━━━━━━━━━━━\u001b[0m \u001b[32m241.2/241.2 kB\u001b[0m \u001b[31m1.9 MB/s\u001b[0m eta \u001b[36m0:00:00\u001b[0m\n",
            "\u001b[?25h"
          ]
        }
      ]
    },
    {
      "cell_type": "code",
      "execution_count": null,
      "metadata": {
        "id": "sHtdbg6M6FI1"
      },
      "outputs": [],
      "source": [
        "import numpy as np\n",
        "import pandas as pd\n",
        "import matplotlib.pyplot as plt\n",
        "import seaborn as sns\n",
        "import time\n",
        "import math\n",
        "import os\n",
        "from pathlib import Path\n",
        "\n",
        "import keras\n",
        "import tensorflow as tf\n",
        "import tensorflow_model_optimization as tfmot\n",
        "\n",
        "from sklearn.metrics import accuracy_score"
      ]
    },
    {
      "cell_type": "code",
      "source": [
        "# MNIST dataset\n",
        "mnist = keras.datasets.mnist\n",
        "(train_images, train_labels), (test_images, test_labels) = mnist.load_data()\n",
        "\n",
        "train_images = train_images / 1.0\n",
        "test_images = test_images / 1.0"
      ],
      "metadata": {
        "id": "43vLGP-sOCZG",
        "colab": {
          "base_uri": "https://localhost:8080/"
        },
        "outputId": "0e8fe5c7-967c-49ed-f8e5-db13b33eb8c6"
      },
      "execution_count": null,
      "outputs": [
        {
          "output_type": "stream",
          "name": "stdout",
          "text": [
            "Downloading data from https://storage.googleapis.com/tensorflow/tf-keras-datasets/mnist.npz\n",
            "11490434/11490434 [==============================] - 2s 0us/step\n"
          ]
        }
      ]
    },
    {
      "cell_type": "markdown",
      "source": [
        "# Base Model"
      ],
      "metadata": {
        "id": "PAaZSnm_-BbM"
      }
    },
    {
      "cell_type": "markdown",
      "source": [
        "## Train"
      ],
      "metadata": {
        "id": "XR0hqZ2y9J06"
      }
    },
    {
      "cell_type": "code",
      "source": [
        "model = keras.Sequential([\n",
        "  keras.layers.InputLayer(input_shape=(28, 28)),\n",
        "  keras.layers.Reshape(target_shape=(28, 28, 1)),\n",
        "  keras.layers.Conv2D(filters=12, kernel_size=(3, 3), activation='relu'),\n",
        "  keras.layers.MaxPooling2D(pool_size=(2, 2)),\n",
        "  keras.layers.Flatten(),\n",
        "  keras.layers.Dense(10)\n",
        "])\n",
        "\n",
        "model.compile(optimizer='adam',\n",
        "              loss=tf.keras.losses.SparseCategoricalCrossentropy(from_logits=True),\n",
        "              metrics=['accuracy'])\n",
        "\n",
        "model.fit(\n",
        "  train_images,\n",
        "  train_labels,\n",
        "  epochs=1,\n",
        "  validation_split=0.1,\n",
        ")"
      ],
      "metadata": {
        "colab": {
          "base_uri": "https://localhost:8080/"
        },
        "id": "w_pyWsyE6uwX",
        "outputId": "be875467-80ef-48b0-b883-f9b1ab6c20e2"
      },
      "execution_count": null,
      "outputs": [
        {
          "output_type": "stream",
          "name": "stdout",
          "text": [
            "1688/1688 [==============================] - 14s 7ms/step - loss: 1.0865 - accuracy: 0.9096 - val_loss: 0.1963 - val_accuracy: 0.9548\n"
          ]
        },
        {
          "output_type": "execute_result",
          "data": {
            "text/plain": [
              "<keras.src.callbacks.History at 0x7c8808ff8d00>"
            ]
          },
          "metadata": {},
          "execution_count": 4
        }
      ]
    },
    {
      "cell_type": "markdown",
      "source": [
        "전체 모델에 양자화 인식 훈련 적용"
      ],
      "metadata": {
        "id": "AIxzjy2cLTry"
      }
    },
    {
      "cell_type": "code",
      "source": [
        "quantize_model = tfmot.quantization.keras.quantize_model\n",
        "\n",
        "# q_aware stands for for quantization aware.\n",
        "q_aware_model = quantize_model(model)\n",
        "\n",
        "# `quantize_model` requires a recompile.\n",
        "q_aware_model.compile(optimizer='adam',\n",
        "              loss=tf.keras.losses.SparseCategoricalCrossentropy(from_logits=True),\n",
        "              metrics=['accuracy'])\n",
        "\n",
        "q_aware_model.summary()"
      ],
      "metadata": {
        "colab": {
          "base_uri": "https://localhost:8080/"
        },
        "id": "FZNiwPMnLOvg",
        "outputId": "0ec2e146-fafb-4772-89da-7441cb140aa3"
      },
      "execution_count": null,
      "outputs": [
        {
          "output_type": "stream",
          "name": "stdout",
          "text": [
            "Model: \"sequential\"\n",
            "_________________________________________________________________\n",
            " Layer (type)                Output Shape              Param #   \n",
            "=================================================================\n",
            " quantize_layer (QuantizeLa  (None, 28, 28)            3         \n",
            " yer)                                                            \n",
            "                                                                 \n",
            " quant_reshape (QuantizeWra  (None, 28, 28, 1)         1         \n",
            " pperV2)                                                         \n",
            "                                                                 \n",
            " quant_conv2d (QuantizeWrap  (None, 26, 26, 12)        147       \n",
            " perV2)                                                          \n",
            "                                                                 \n",
            " quant_max_pooling2d (Quant  (None, 13, 13, 12)        1         \n",
            " izeWrapperV2)                                                   \n",
            "                                                                 \n",
            " quant_flatten (QuantizeWra  (None, 2028)              1         \n",
            " pperV2)                                                         \n",
            "                                                                 \n",
            " quant_dense (QuantizeWrapp  (None, 10)                20295     \n",
            " erV2)                                                           \n",
            "                                                                 \n",
            "=================================================================\n",
            "Total params: 20448 (79.88 KB)\n",
            "Trainable params: 20410 (79.73 KB)\n",
            "Non-trainable params: 38 (152.00 Byte)\n",
            "_________________________________________________________________\n"
          ]
        }
      ]
    },
    {
      "cell_type": "code",
      "source": [
        "train_images_subset = train_images[0:1000] # out of 60000\n",
        "train_labels_subset = train_labels[0:1000]\n",
        "\n",
        "# fine tuning\n",
        "q_aware_model.fit(train_images_subset, train_labels_subset,\n",
        "                  batch_size=500, epochs=1, validation_split=0.1)"
      ],
      "metadata": {
        "colab": {
          "base_uri": "https://localhost:8080/"
        },
        "id": "kZ_-kOeWLdJW",
        "outputId": "dca7fb36-7a41-4b04-fa6d-928c2b503c39"
      },
      "execution_count": null,
      "outputs": [
        {
          "output_type": "stream",
          "name": "stdout",
          "text": [
            "2/2 [==============================] - 8s 1s/step - loss: 0.3129 - accuracy: 0.9189 - val_loss: 0.2235 - val_accuracy: 0.9400\n"
          ]
        },
        {
          "output_type": "execute_result",
          "data": {
            "text/plain": [
              "<keras.src.callbacks.History at 0x7c8808d5d390>"
            ]
          },
          "metadata": {},
          "execution_count": 6
        }
      ]
    },
    {
      "cell_type": "code",
      "source": [
        "_, baseline_model_accuracy = model.evaluate(\n",
        "    test_images, test_labels, verbose=0)\n",
        "\n",
        "_, q_aware_model_accuracy = q_aware_model.evaluate(\n",
        "   test_images, test_labels, verbose=0)\n",
        "\n",
        "print('Baseline test accuracy:', baseline_model_accuracy)\n",
        "print('Quant test accuracy:', q_aware_model_accuracy)"
      ],
      "metadata": {
        "colab": {
          "base_uri": "https://localhost:8080/"
        },
        "id": "HLO6x6ZxLdHG",
        "outputId": "512af1a3-c1a0-47d9-9228-b62ad5f41ec6"
      },
      "execution_count": null,
      "outputs": [
        {
          "output_type": "stream",
          "name": "stdout",
          "text": [
            "Baseline test accuracy: 0.9477999806404114\n",
            "Quant test accuracy: 0.9322999715805054\n"
          ]
        }
      ]
    },
    {
      "cell_type": "markdown",
      "source": [
        "## Test"
      ],
      "metadata": {
        "id": "HN24SwR-9NFB"
      }
    },
    {
      "cell_type": "code",
      "source": [
        "Normal_Model_Acc_results = {\n",
        "    'base_model': [],\n",
        "    'tflite': [],\n",
        "    'dynamic_quant': [],\n",
        "    'float16_quant': [],\n",
        "    'int_quant': []}\n",
        "\n",
        "Normal_Model_Time_results = {\n",
        "    'base_model': [],\n",
        "    'tflite': [],\n",
        "    'dynamic_quant': [],\n",
        "    'float16_quant': [],\n",
        "    'int_quant': []}\n",
        "\n",
        "Q_Aware_Model_Acc_results = {\n",
        "    'base_model': [],\n",
        "    'tflite': [],\n",
        "    'dynamic_quant': [],\n",
        "    'float16_quant': [],\n",
        "    'int_quant': []}\n",
        "\n",
        "Q_Aware_Model_Time_results = {\n",
        "    'base_model': [],\n",
        "    'tflite': [],\n",
        "    'dynamic_quant': [],\n",
        "    'float16_quant': [],\n",
        "    'int_quant': []}"
      ],
      "metadata": {
        "id": "ATe8W03P_PKH"
      },
      "execution_count": null,
      "outputs": []
    },
    {
      "cell_type": "code",
      "source": [
        "n_iter = 5\n",
        "\n",
        "for iter in range(n_iter):\n",
        "    start_time = time.time()\n",
        "\n",
        "    y_pred = []\n",
        "\n",
        "    for x in test_images:\n",
        "        pred = np.argmax(model(np.expand_dims(x, axis=0).astype(np.float32)))\n",
        "        y_pred.append(pred)\n",
        "\n",
        "    Normal_Model_Acc_results['base_model'].append(accuracy_score(test_labels, y_pred))\n",
        "    end_time = time.time()\n",
        "\n",
        "    Normal_Model_Time_results['base_model'].append(end_time - start_time)\n",
        "\n",
        "print('Normal Model Accuracy (GPU): %f' %(np.mean(Normal_Model_Acc_results['base_model'])))\n",
        "print('Normal Model Inference Time (GPU): %f' %(np.mean(Normal_Model_Time_results['base_model'])))"
      ],
      "metadata": {
        "colab": {
          "base_uri": "https://localhost:8080/"
        },
        "id": "ddyrLsVT_Pkd",
        "outputId": "403ca3d3-d3de-4f23-aefd-6e84192fd80b"
      },
      "execution_count": null,
      "outputs": [
        {
          "output_type": "stream",
          "name": "stdout",
          "text": [
            "Normal Model Accuracy (GPU): 0.947800\n",
            "Normal Model Inference Time (GPU): 38.922454\n"
          ]
        }
      ]
    },
    {
      "cell_type": "code",
      "source": [
        "for iter in range(n_iter):\n",
        "    start_time = time.time()\n",
        "\n",
        "    y_pred = []\n",
        "\n",
        "    for x in test_images:\n",
        "        pred = np.argmax(q_aware_model(np.expand_dims(x, axis=0).astype(np.float32)))\n",
        "        y_pred.append(pred)\n",
        "\n",
        "    Q_Aware_Model_Acc_results['base_model'].append(accuracy_score(test_labels, y_pred))\n",
        "    end_time = time.time()\n",
        "\n",
        "    Q_Aware_Model_Time_results['base_model'].append(end_time - start_time)\n",
        "\n",
        "print('Q-Aware Model Accuracy (GPU): %f' %(np.mean(Q_Aware_Model_Acc_results['base_model'])))\n",
        "print('Q-Aware Model Inference Time (GPU): %f' %(np.mean(Q_Aware_Model_Time_results['base_model'])))"
      ],
      "metadata": {
        "colab": {
          "base_uri": "https://localhost:8080/"
        },
        "id": "BejVZ8KgPUIF",
        "outputId": "b69a5cdb-7d05-48b5-864c-36f5787cc1f5"
      },
      "execution_count": null,
      "outputs": [
        {
          "output_type": "stream",
          "name": "stdout",
          "text": [
            "Q-Aware Model Accuracy (GPU): 0.932300\n",
            "Q-Aware Model Inference Time (GPU): 71.149294\n"
          ]
        }
      ]
    },
    {
      "cell_type": "markdown",
      "source": [
        "# 양자화 적용"
      ],
      "metadata": {
        "id": "tiCmZN8NPl1m"
      }
    },
    {
      "cell_type": "markdown",
      "source": [
        "## 일반 모델"
      ],
      "metadata": {
        "id": "t5_4TcZyPo0l"
      }
    },
    {
      "cell_type": "code",
      "source": [
        "# TFLite\n",
        "converter = tf.lite.TFLiteConverter.from_keras_model(model)\n",
        "tflite_model = converter.convert()\n",
        "\n",
        "tflite_models_dir = Path(\"tflite_models/\")\n",
        "tflite_models_dir.mkdir(exist_ok=True, parents=True)\n",
        "\n",
        "tflite_model_file = tflite_models_dir/\"base_model.tflite\"\n",
        "tflite_model_file.write_bytes(tflite_model)"
      ],
      "metadata": {
        "colab": {
          "base_uri": "https://localhost:8080/"
        },
        "id": "FI01kTwDPnY4",
        "outputId": "8deade42-52fe-4a9c-ad03-ad1e108d16f0"
      },
      "execution_count": null,
      "outputs": [
        {
          "output_type": "execute_result",
          "data": {
            "text/plain": [
              "84820"
            ]
          },
          "metadata": {},
          "execution_count": 11
        }
      ]
    },
    {
      "cell_type": "code",
      "source": [
        "# TFLite - Dynamic Quant\n",
        "converter = tf.lite.TFLiteConverter.from_keras_model(model)\n",
        "converter.optimizations = [tf.lite.Optimize.DEFAULT]\n",
        "tflite_dynamic_quant_model = converter.convert()\n",
        "\n",
        "tflite_model_dynamic_quant_file = tflite_models_dir/\"dynamic_quant_model.tflite\"\n",
        "tflite_model_dynamic_quant_file.write_bytes(tflite_dynamic_quant_model)"
      ],
      "metadata": {
        "colab": {
          "base_uri": "https://localhost:8080/"
        },
        "id": "9mwczcDdPvnc",
        "outputId": "aac8acc4-254e-4bf8-9ed6-fcf6c30aac35"
      },
      "execution_count": null,
      "outputs": [
        {
          "output_type": "execute_result",
          "data": {
            "text/plain": [
              "24064"
            ]
          },
          "metadata": {},
          "execution_count": 12
        }
      ]
    },
    {
      "cell_type": "code",
      "source": [
        "# TFLite - Float16 Quant\n",
        "converter = tf.lite.TFLiteConverter.from_keras_model(model)\n",
        "converter.optimizations = [tf.lite.Optimize.DEFAULT]\n",
        "converter.target_spec.supported_types = [tf.float16]\n",
        "tflite_float16_quant_model = converter.convert()\n",
        "\n",
        "tflite_model_float16_quant_file = tflite_models_dir/\"float16_quant_model.tflite\"\n",
        "tflite_model_float16_quant_file.write_bytes(tflite_float16_quant_model)"
      ],
      "metadata": {
        "colab": {
          "base_uri": "https://localhost:8080/"
        },
        "id": "ovcDkVYpPvlM",
        "outputId": "143580ac-e28b-4239-afd3-111b7e772909"
      },
      "execution_count": null,
      "outputs": [
        {
          "output_type": "execute_result",
          "data": {
            "text/plain": [
              "44624"
            ]
          },
          "metadata": {},
          "execution_count": 13
        }
      ]
    },
    {
      "cell_type": "code",
      "source": [
        "# TFLite - Int Quant\n",
        "def representative_data_gen():\n",
        "    for input_value in tf.data.Dataset.from_tensor_slices(train_images.astype(np.float32)).batch(1).take(100):\n",
        "        yield [input_value]\n",
        "\n",
        "converter = tf.lite.TFLiteConverter.from_keras_model(model)\n",
        "converter.optimizations = [tf.lite.Optimize.DEFAULT]\n",
        "converter.representative_dataset = representative_data_gen\n",
        "converter.target_spec.supported_ops = [tf.lite.OpsSet.TFLITE_BUILTINS_INT8]\n",
        "converter.inference_input_type = tf.uint8\n",
        "converter.inference_output_type = tf.uint8\n",
        "\n",
        "tflite_int_quant_model = converter.convert()\n",
        "\n",
        "tflite_model_int_quant_file = tflite_models_dir/\"int_quant_model.tflite\"\n",
        "tflite_model_int_quant_file.write_bytes(tflite_int_quant_model)"
      ],
      "metadata": {
        "colab": {
          "base_uri": "https://localhost:8080/"
        },
        "id": "W-eR4WWfPvjQ",
        "outputId": "125e351f-ddc5-43c4-d4f3-f3c95e93897e"
      },
      "execution_count": null,
      "outputs": [
        {
          "output_type": "stream",
          "name": "stderr",
          "text": [
            "/usr/local/lib/python3.10/dist-packages/tensorflow/lite/python/convert.py:953: UserWarning: Statistics for quantized inputs were expected, but not specified; continuing anyway.\n",
            "  warnings.warn(\n"
          ]
        },
        {
          "output_type": "execute_result",
          "data": {
            "text/plain": [
              "24608"
            ]
          },
          "metadata": {},
          "execution_count": 14
        }
      ]
    },
    {
      "cell_type": "code",
      "source": [
        "interpreter_tflite = tf.lite.Interpreter(model_path=str(tflite_model_file))\n",
        "interpreter_tflite.allocate_tensors()\n",
        "\n",
        "interpreter_dynamic = tf.lite.Interpreter(model_path=str(tflite_model_dynamic_quant_file))\n",
        "interpreter_dynamic.allocate_tensors()\n",
        "\n",
        "interpreter_f16 = tf.lite.Interpreter(model_path=str(tflite_model_float16_quant_file))\n",
        "interpreter_f16.allocate_tensors()\n",
        "\n",
        "interpreter_int = tf.lite.Interpreter(model_path=str(tflite_model_int_quant_file))\n",
        "interpreter_int.allocate_tensors()"
      ],
      "metadata": {
        "id": "LqHdyZ8-PvhL"
      },
      "execution_count": null,
      "outputs": []
    },
    {
      "cell_type": "code",
      "source": [
        "# TFLite\n",
        "input_index = interpreter_tflite.get_input_details()[0][\"index\"]\n",
        "output_index = interpreter_tflite.get_output_details()[0][\"index\"]\n",
        "\n",
        "for iter in range(n_iter):\n",
        "    start_time = time.time()\n",
        "\n",
        "    y_pred = []\n",
        "    for x in test_images:\n",
        "        x = np.expand_dims(x, axis=0).astype(np.float32)\n",
        "        interpreter_tflite.set_tensor(input_index, x)\n",
        "\n",
        "        interpreter_tflite.invoke()\n",
        "\n",
        "        output = interpreter_tflite.tensor(output_index)\n",
        "        pred = np.argmax(output()[0])\n",
        "        y_pred.append(pred)\n",
        "\n",
        "    Normal_Model_Acc_results['tflite'].append(accuracy_score(test_labels, y_pred))\n",
        "    end_time = time.time()\n",
        "\n",
        "    Normal_Model_Time_results['tflite'].append(end_time - start_time)\n",
        "\n",
        "print('TFLite Accuracy (GPU): %f' %(np.mean(Normal_Model_Acc_results['tflite'])))\n",
        "print('TFLite Inference Time (GPU): %f' %(np.mean(Normal_Model_Time_results['tflite'])))"
      ],
      "metadata": {
        "colab": {
          "base_uri": "https://localhost:8080/"
        },
        "id": "qsoqVX0fSbN5",
        "outputId": "55cb06cb-e9fd-4473-af32-314e7ccc8ddc"
      },
      "execution_count": null,
      "outputs": [
        {
          "output_type": "stream",
          "name": "stdout",
          "text": [
            "TFLite Accuracy (GPU): 0.947800\n",
            "TFLite Inference Time (GPU): 1.351541\n"
          ]
        }
      ]
    },
    {
      "cell_type": "code",
      "source": [
        "# TFLite - Dynamic Quantization\n",
        "input_index = interpreter_dynamic.get_input_details()[0][\"index\"]\n",
        "output_index = interpreter_dynamic.get_output_details()[0][\"index\"]\n",
        "\n",
        "for iter in range(n_iter):\n",
        "    start_time = time.time()\n",
        "\n",
        "    y_pred = []\n",
        "    for x in test_images:\n",
        "        x = np.expand_dims(x, axis=0).astype(np.float32)\n",
        "        interpreter_dynamic.set_tensor(input_index, x)\n",
        "\n",
        "        interpreter_dynamic.invoke()\n",
        "\n",
        "        output = interpreter_dynamic.tensor(output_index)\n",
        "        pred = np.argmax(output()[0])\n",
        "        y_pred.append(pred)\n",
        "\n",
        "    Normal_Model_Acc_results['dynamic_quant'].append(accuracy_score(test_labels, y_pred))\n",
        "    end_time = time.time()\n",
        "\n",
        "    Normal_Model_Time_results['dynamic_quant'].append(end_time - start_time)\n",
        "\n",
        "print('Dynamic Quant Accuracy (GPU): %f' %(np.mean(Normal_Model_Acc_results['dynamic_quant'])))\n",
        "print('Dynamic Quant Inference Time (GPU): %f' %(np.mean(Normal_Model_Time_results['dynamic_quant'])))"
      ],
      "metadata": {
        "colab": {
          "base_uri": "https://localhost:8080/"
        },
        "id": "sSSIcjr6SbL_",
        "outputId": "c55ba5f6-0d99-47c8-aa56-552465c9929c"
      },
      "execution_count": null,
      "outputs": [
        {
          "output_type": "stream",
          "name": "stdout",
          "text": [
            "Dynamic Quant Accuracy (GPU): 0.947700\n",
            "Dynamic Quant Inference Time (GPU): 1.029758\n"
          ]
        }
      ]
    },
    {
      "cell_type": "code",
      "source": [
        "# TFLite - Float16 Quantization\n",
        "input_index = interpreter_f16.get_input_details()[0][\"index\"]\n",
        "output_index = interpreter_f16.get_output_details()[0][\"index\"]\n",
        "\n",
        "for iter in range(n_iter):\n",
        "    start_time = time.time()\n",
        "\n",
        "    y_pred = []\n",
        "    for x in test_images:\n",
        "        x = np.expand_dims(x, axis=0).astype(np.float32)\n",
        "        interpreter_f16.set_tensor(input_index, x)\n",
        "\n",
        "        interpreter_f16.invoke()\n",
        "\n",
        "        output = interpreter_f16.tensor(output_index)\n",
        "        pred = np.argmax(output()[0])\n",
        "        y_pred.append(pred)\n",
        "\n",
        "    Normal_Model_Acc_results['float16_quant'].append(accuracy_score(test_labels, y_pred))\n",
        "    end_time = time.time()\n",
        "\n",
        "    Normal_Model_Time_results['float16_quant'].append(end_time - start_time)\n",
        "\n",
        "print('Float16 Accuracy (GPU): %f' %(np.mean(Normal_Model_Acc_results['float16_quant'])))\n",
        "print('Float16 Inference Time (GPU): %f' %(np.mean(Normal_Model_Time_results['float16_quant'])))"
      ],
      "metadata": {
        "colab": {
          "base_uri": "https://localhost:8080/"
        },
        "id": "okj7Jh22SbJ3",
        "outputId": "e3eeca41-54a7-4ed8-f7fc-550ad297e84d"
      },
      "execution_count": null,
      "outputs": [
        {
          "output_type": "stream",
          "name": "stdout",
          "text": [
            "Float16 Accuracy (GPU): 0.948000\n",
            "Float16 Inference Time (GPU): 1.086174\n"
          ]
        }
      ]
    },
    {
      "cell_type": "code",
      "source": [
        "# TFLite - Int Quantization\n",
        "input_index = interpreter_int.get_input_details()[0][\"index\"]\n",
        "output_index = interpreter_int.get_output_details()[0][\"index\"]\n",
        "\n",
        "for iter in range(n_iter):\n",
        "    start_time = time.time()\n",
        "\n",
        "    y_pred = []\n",
        "    for x in test_images:\n",
        "        x = np.expand_dims(x, axis=0).astype(np.uint8)\n",
        "        interpreter_int.set_tensor(input_index, x)\n",
        "\n",
        "        interpreter_int.invoke()\n",
        "\n",
        "        output = interpreter_int.tensor(output_index)\n",
        "        pred = np.argmax(output()[0])\n",
        "        y_pred.append(pred)\n",
        "\n",
        "    Normal_Model_Acc_results['int_quant'].append(accuracy_score(test_labels, y_pred))\n",
        "    end_time = time.time()\n",
        "\n",
        "    Normal_Model_Time_results['int_quant'].append(end_time - start_time)\n",
        "\n",
        "print('Int Quant Accuracy (GPU): %f' %(np.mean(Normal_Model_Acc_results['int_quant'])))\n",
        "print('Int QuantInference Time (GPU): %f' %(np.mean(Normal_Model_Time_results['int_quant'])))"
      ],
      "metadata": {
        "colab": {
          "base_uri": "https://localhost:8080/"
        },
        "id": "X9ue7JyLfR6i",
        "outputId": "0d8d4cb1-494a-42d8-bc93-76a49844da9e"
      },
      "execution_count": null,
      "outputs": [
        {
          "output_type": "stream",
          "name": "stdout",
          "text": [
            "Int Quant Accuracy (GPU): 0.947200\n",
            "Int QuantInference Time (GPU): 0.912520\n"
          ]
        }
      ]
    },
    {
      "cell_type": "code",
      "source": [
        "pd.DataFrame(Normal_Model_Acc_results).boxplot(figsize=(7, 5))\n",
        "plt.show()"
      ],
      "metadata": {
        "colab": {
          "base_uri": "https://localhost:8080/",
          "height": 445
        },
        "id": "zONy1izkSbH5",
        "outputId": "b7c7d2f0-a1ac-4e4b-92cb-9b553201ad6c"
      },
      "execution_count": null,
      "outputs": [
        {
          "output_type": "display_data",
          "data": {
            "text/plain": [
              "<Figure size 700x500 with 1 Axes>"
            ],
            "image/png": "[encoded data removed]"
          },
          "metadata": {}
        }
      ]
    },
    {
      "cell_type": "code",
      "source": [
        "pd.DataFrame(Normal_Model_Time_results).boxplot(figsize=(7, 5))\n",
        "plt.show()"
      ],
      "metadata": {
        "colab": {
          "base_uri": "https://localhost:8080/",
          "height": 445
        },
        "id": "0_i7L-NiSbGA",
        "outputId": "d78f50a3-93d9-4be0-9ad0-1cd64852b084"
      },
      "execution_count": null,
      "outputs": [
        {
          "output_type": "display_data",
          "data": {
            "text/plain": [
              "<Figure size 700x500 with 1 Axes>"
            ],
            "image/png": "[encoded data removed]"
          },
          "metadata": {}
        }
      ]
    },
    {
      "cell_type": "markdown",
      "source": [
        "## 양자화 인식 훈련 모델"
      ],
      "metadata": {
        "id": "xYHCm0JjPqO9"
      }
    },
    {
      "cell_type": "code",
      "source": [
        "# TFLite\n",
        "converter = tf.lite.TFLiteConverter.from_keras_model(q_aware_model)\n",
        "tflite_model = converter.convert()\n",
        "\n",
        "# Q-Aware Model\n",
        "tflite_models_dir = Path(\"tflite_q_aware_models/\")\n",
        "tflite_models_dir.mkdir(exist_ok=True, parents=True)\n",
        "\n",
        "tflite_model_file = tflite_models_dir/\"base_model.tflite\"\n",
        "tflite_model_file.write_bytes(tflite_model)"
      ],
      "metadata": {
        "colab": {
          "base_uri": "https://localhost:8080/"
        },
        "outputId": "b5370dc3-184a-4789-8509-bde4c57d4266",
        "id": "KrM7k_MdheMx"
      },
      "execution_count": null,
      "outputs": [
        {
          "output_type": "execute_result",
          "data": {
            "text/plain": [
              "88000"
            ]
          },
          "metadata": {},
          "execution_count": 22
        }
      ]
    },
    {
      "cell_type": "code",
      "source": [
        "# TFLite - Dynamic Quant\n",
        "converter = tf.lite.TFLiteConverter.from_keras_model(q_aware_model)\n",
        "converter.optimizations = [tf.lite.Optimize.DEFAULT]\n",
        "tflite_dynamic_quant_model = converter.convert()\n",
        "\n",
        "tflite_model_dynamic_quant_file = tflite_models_dir/\"dynamic_quant_model.tflite\"\n",
        "tflite_model_dynamic_quant_file.write_bytes(tflite_dynamic_quant_model)"
      ],
      "metadata": {
        "colab": {
          "base_uri": "https://localhost:8080/"
        },
        "outputId": "32ab1c38-c6c4-426d-9e32-dad3481742ad",
        "id": "RxfFdGKaheMx"
      },
      "execution_count": null,
      "outputs": [
        {
          "output_type": "stream",
          "name": "stderr",
          "text": [
            "/usr/local/lib/python3.10/dist-packages/tensorflow/lite/python/convert.py:953: UserWarning: Statistics for quantized inputs were expected, but not specified; continuing anyway.\n",
            "  warnings.warn(\n"
          ]
        },
        {
          "output_type": "execute_result",
          "data": {
            "text/plain": [
              "25120"
            ]
          },
          "metadata": {},
          "execution_count": 23
        }
      ]
    },
    {
      "cell_type": "code",
      "source": [
        "# TFLite - Float16 Quant\n",
        "converter = tf.lite.TFLiteConverter.from_keras_model(q_aware_model)\n",
        "converter.optimizations = [tf.lite.Optimize.DEFAULT]\n",
        "converter.target_spec.supported_types = [tf.float16]\n",
        "tflite_float16_quant_model = converter.convert()\n",
        "\n",
        "tflite_model_float16_quant_file = tflite_models_dir/\"float16_quant_model.tflite\"\n",
        "tflite_model_float16_quant_file.write_bytes(tflite_float16_quant_model)"
      ],
      "metadata": {
        "colab": {
          "base_uri": "https://localhost:8080/"
        },
        "outputId": "422558e5-a87f-4331-c248-754ae44ae10f",
        "id": "ikbncR6LheMx"
      },
      "execution_count": null,
      "outputs": [
        {
          "output_type": "stream",
          "name": "stderr",
          "text": [
            "/usr/local/lib/python3.10/dist-packages/tensorflow/lite/python/convert.py:953: UserWarning: Statistics for quantized inputs were expected, but not specified; continuing anyway.\n",
            "  warnings.warn(\n"
          ]
        },
        {
          "output_type": "execute_result",
          "data": {
            "text/plain": [
              "25120"
            ]
          },
          "metadata": {},
          "execution_count": 24
        }
      ]
    },
    {
      "cell_type": "code",
      "source": [
        "# TFLite - Int Quant\n",
        "def representative_data_gen():\n",
        "    for input_value in tf.data.Dataset.from_tensor_slices(train_images.astype(np.float32)).batch(1).take(100):\n",
        "        yield [input_value]\n",
        "\n",
        "converter = tf.lite.TFLiteConverter.from_keras_model(q_aware_model)\n",
        "converter.optimizations = [tf.lite.Optimize.DEFAULT]\n",
        "converter.representative_dataset = representative_data_gen\n",
        "converter.target_spec.supported_ops = [tf.lite.OpsSet.TFLITE_BUILTINS_INT8]\n",
        "converter.inference_input_type = tf.uint8\n",
        "converter.inference_output_type = tf.uint8\n",
        "\n",
        "tflite_int_quant_model = converter.convert()\n",
        "\n",
        "tflite_model_int_quant_file = tflite_models_dir/\"int_quant_model.tflite\"\n",
        "tflite_model_int_quant_file.write_bytes(tflite_int_quant_model)"
      ],
      "metadata": {
        "colab": {
          "base_uri": "https://localhost:8080/"
        },
        "outputId": "74595737-2ee2-4c30-d57c-adc4e1d09091",
        "id": "mCERIJQkheMy"
      },
      "execution_count": null,
      "outputs": [
        {
          "output_type": "stream",
          "name": "stderr",
          "text": [
            "/usr/local/lib/python3.10/dist-packages/tensorflow/lite/python/convert.py:953: UserWarning: Statistics for quantized inputs were expected, but not specified; continuing anyway.\n",
            "  warnings.warn(\n"
          ]
        },
        {
          "output_type": "execute_result",
          "data": {
            "text/plain": [
              "25128"
            ]
          },
          "metadata": {},
          "execution_count": 25
        }
      ]
    },
    {
      "cell_type": "code",
      "source": [
        "interpreter_tflite = tf.lite.Interpreter(model_path=str(tflite_model_file))\n",
        "interpreter_tflite.allocate_tensors()\n",
        "\n",
        "interpreter_dynamic = tf.lite.Interpreter(model_path=str(tflite_model_dynamic_quant_file))\n",
        "interpreter_dynamic.allocate_tensors()\n",
        "\n",
        "interpreter_f16 = tf.lite.Interpreter(model_path=str(tflite_model_float16_quant_file))\n",
        "interpreter_f16.allocate_tensors()\n",
        "\n",
        "interpreter_int = tf.lite.Interpreter(model_path=str(tflite_model_int_quant_file))\n",
        "interpreter_int.allocate_tensors()"
      ],
      "metadata": {
        "id": "LuSItyxaheMy"
      },
      "execution_count": null,
      "outputs": []
    },
    {
      "cell_type": "code",
      "source": [
        "# TFLite\n",
        "input_index = interpreter_tflite.get_input_details()[0][\"index\"]\n",
        "output_index = interpreter_tflite.get_output_details()[0][\"index\"]\n",
        "\n",
        "for iter in range(n_iter):\n",
        "    start_time = time.time()\n",
        "\n",
        "    y_pred = []\n",
        "    for x in test_images:\n",
        "        x = np.expand_dims(x, axis=0).astype(np.float32)\n",
        "        interpreter_tflite.set_tensor(input_index, x)\n",
        "\n",
        "        interpreter_tflite.invoke()\n",
        "\n",
        "        output = interpreter_tflite.tensor(output_index)\n",
        "        pred = np.argmax(output()[0])\n",
        "        y_pred.append(pred)\n",
        "\n",
        "    Q_Aware_Model_Acc_results['tflite'].append(accuracy_score(test_labels, y_pred))\n",
        "    end_time = time.time()\n",
        "\n",
        "    Q_Aware_Model_Time_results['tflite'].append(end_time - start_time)\n",
        "\n",
        "print('TFLite Accuracy (GPU): %f' %(np.mean(Q_Aware_Model_Acc_results['tflite'])))\n",
        "print('TFLite Inference Time (GPU): %f' %(np.mean(Q_Aware_Model_Time_results['tflite'])))"
      ],
      "metadata": {
        "colab": {
          "base_uri": "https://localhost:8080/"
        },
        "outputId": "2700feec-d54c-45cb-bab0-330acb7f68f1",
        "id": "ci_4EfxjheMy"
      },
      "execution_count": null,
      "outputs": [
        {
          "output_type": "stream",
          "name": "stdout",
          "text": [
            "TFLite Accuracy (GPU): 0.932400\n",
            "TFLite Inference Time (GPU): 1.093805\n"
          ]
        }
      ]
    },
    {
      "cell_type": "code",
      "source": [
        "# TFLite - Dynamic Quantization\n",
        "input_index = interpreter_dynamic.get_input_details()[0][\"index\"]\n",
        "output_index = interpreter_dynamic.get_output_details()[0][\"index\"]\n",
        "\n",
        "for iter in range(n_iter):\n",
        "    start_time = time.time()\n",
        "\n",
        "    y_pred = []\n",
        "    for x in test_images:\n",
        "        x = np.expand_dims(x, axis=0).astype(np.float32)\n",
        "        interpreter_dynamic.set_tensor(input_index, x)\n",
        "\n",
        "        interpreter_dynamic.invoke()\n",
        "\n",
        "        output = interpreter_dynamic.tensor(output_index)\n",
        "        pred = np.argmax(output()[0])\n",
        "        y_pred.append(pred)\n",
        "\n",
        "    Q_Aware_Model_Acc_results['dynamic_quant'].append(accuracy_score(test_labels, y_pred))\n",
        "    end_time = time.time()\n",
        "\n",
        "    Q_Aware_Model_Time_results['dynamic_quant'].append(end_time - start_time)\n",
        "\n",
        "print('Dynamic Quant Accuracy (GPU): %f' %(np.mean(Q_Aware_Model_Acc_results['dynamic_quant'])))\n",
        "print('Dynamic Quant Inference Time (GPU): %f' %(np.mean(Q_Aware_Model_Time_results['dynamic_quant'])))"
      ],
      "metadata": {
        "colab": {
          "base_uri": "https://localhost:8080/"
        },
        "outputId": "7518cc3d-9847-4fe5-d5ab-9bf25425707a",
        "id": "IlgcLjjbheMy"
      },
      "execution_count": null,
      "outputs": [
        {
          "output_type": "stream",
          "name": "stdout",
          "text": [
            "Dynamic Quant Accuracy (GPU): 0.932400\n",
            "Dynamic Quant Inference Time (GPU): 0.727844\n"
          ]
        }
      ]
    },
    {
      "cell_type": "code",
      "source": [
        "# TFLite - Float16 Quantization\n",
        "input_index = interpreter_f16.get_input_details()[0][\"index\"]\n",
        "output_index = interpreter_f16.get_output_details()[0][\"index\"]\n",
        "\n",
        "for iter in range(n_iter):\n",
        "    start_time = time.time()\n",
        "\n",
        "    y_pred = []\n",
        "    for x in test_images:\n",
        "        x = np.expand_dims(x, axis=0).astype(np.float32)\n",
        "        interpreter_f16.set_tensor(input_index, x)\n",
        "\n",
        "        interpreter_f16.invoke()\n",
        "\n",
        "        output = interpreter_f16.tensor(output_index)\n",
        "        pred = np.argmax(output()[0])\n",
        "        y_pred.append(pred)\n",
        "\n",
        "    Q_Aware_Model_Acc_results['float16_quant'].append(accuracy_score(test_labels, y_pred))\n",
        "    end_time = time.time()\n",
        "\n",
        "    Q_Aware_Model_Time_results['float16_quant'].append(end_time - start_time)\n",
        "\n",
        "print('Float16 Accuracy (GPU): %f' %(np.mean(Q_Aware_Model_Acc_results['float16_quant'])))\n",
        "print('Float16 Inference Time (GPU): %f' %(np.mean(Q_Aware_Model_Time_results['float16_quant'])))"
      ],
      "metadata": {
        "colab": {
          "base_uri": "https://localhost:8080/"
        },
        "outputId": "15f4eb51-f823-47c5-e2cf-21d86f8e3a96",
        "id": "CQiiH72OheMy"
      },
      "execution_count": null,
      "outputs": [
        {
          "output_type": "stream",
          "name": "stdout",
          "text": [
            "Float16 Accuracy (GPU): 0.932400\n",
            "Float16 Inference Time (GPU): 0.735955\n"
          ]
        }
      ]
    },
    {
      "cell_type": "code",
      "source": [
        "# TFLite - Int Quantization\n",
        "input_index = interpreter_int.get_input_details()[0][\"index\"]\n",
        "output_index = interpreter_int.get_output_details()[0][\"index\"]\n",
        "\n",
        "for iter in range(n_iter):\n",
        "    start_time = time.time()\n",
        "\n",
        "    y_pred = []\n",
        "    for x in test_images:\n",
        "        x = np.expand_dims(x, axis=0).astype(np.uint8)\n",
        "        interpreter_int.set_tensor(input_index, x)\n",
        "\n",
        "        interpreter_int.invoke()\n",
        "\n",
        "        output = interpreter_int.tensor(output_index)\n",
        "        pred = np.argmax(output()[0])\n",
        "        y_pred.append(pred)\n",
        "\n",
        "    Q_Aware_Model_Acc_results['int_quant'].append(accuracy_score(test_labels, y_pred))\n",
        "    end_time = time.time()\n",
        "\n",
        "    Q_Aware_Model_Time_results['int_quant'].append(end_time - start_time)\n",
        "\n",
        "print('Int Quant Accuracy (GPU): %f' %(np.mean(Q_Aware_Model_Acc_results['int_quant'])))\n",
        "print('Int QuantInference Time (GPU): %f' %(np.mean(Q_Aware_Model_Time_results['int_quant'])))"
      ],
      "metadata": {
        "colab": {
          "base_uri": "https://localhost:8080/"
        },
        "outputId": "403cd769-f782-45c6-b692-056c7b8adf99",
        "id": "cq-r2cOrheMy"
      },
      "execution_count": null,
      "outputs": [
        {
          "output_type": "stream",
          "name": "stdout",
          "text": [
            "Int Quant Accuracy (GPU): 0.932400\n",
            "Int QuantInference Time (GPU): 0.941354\n"
          ]
        }
      ]
    },
    {
      "cell_type": "code",
      "source": [
        "pd.DataFrame(Q_Aware_Model_Acc_results).boxplot(figsize=(7, 5))\n",
        "plt.show()"
      ],
      "metadata": {
        "colab": {
          "base_uri": "https://localhost:8080/",
          "height": 445
        },
        "outputId": "a0c29980-192d-4689-a385-68c682812fe4",
        "id": "5Jtc5hUdheMy"
      },
      "execution_count": null,
      "outputs": [
        {
          "output_type": "display_data",
          "data": {
            "text/plain": [
              "<Figure size 700x500 with 1 Axes>"
            ],
            "image/png": "[encoded data removed]"
          },
          "metadata": {}
        }
      ]
    },
    {
      "cell_type": "code",
      "source": [
        "pd.DataFrame(Q_Aware_Model_Time_results).boxplot(figsize=(7, 5))\n",
        "plt.show()"
      ],
      "metadata": {
        "colab": {
          "base_uri": "https://localhost:8080/",
          "height": 445
        },
        "outputId": "90ee499e-8cb1-495d-b7a7-6d2d864e47de",
        "id": "PUXu6cBXheMz"
      },
      "execution_count": null,
      "outputs": [
        {
          "output_type": "display_data",
          "data": {
            "text/plain": [
              "<Figure size 700x500 with 1 Axes>"
            ],
            "image/png": "[encoded data removed]"
          },
          "metadata": {}
        }
      ]
    },
    {
      "cell_type": "markdown",
      "source": [
        "# 모델 크기"
      ],
      "metadata": {
        "id": "SmhddK430Ryd"
      }
    },
    {
      "cell_type": "code",
      "source": [
        "def convert_size(size_bytes):\n",
        "   if size_bytes == 0:\n",
        "       return \"0B\"\n",
        "   size_name = (\"B\", \"KB\", \"MB\", \"GB\", \"TB\", \"PB\", \"EB\", \"ZB\", \"YB\")\n",
        "   i = int(math.floor(math.log(size_bytes, 1024)))\n",
        "   p = math.pow(1024, i)\n",
        "   s = round(size_bytes / p, 2)\n",
        "   return \"%s %s\" % (s, size_name[i])"
      ],
      "metadata": {
        "id": "OtikBXcrPnU1"
      },
      "execution_count": null,
      "outputs": []
    },
    {
      "cell_type": "code",
      "source": [
        "tflite_size = os.path.getsize('/content/tflite_models/base_model.tflite')\n",
        "dynamic_quant_size = os.path.getsize('/content/tflite_models/dynamic_quant_model.tflite')\n",
        "float16_quant_size = os.path.getsize('/content/tflite_models/float16_quant_model.tflite')\n",
        "int_quant_size = os.path.getsize('/content/tflite_models/int_quant_model.tflite')\n",
        "\n",
        "print('Normal Model')\n",
        "print('TFLite Size:', convert_size(tflite_size), 'bytes')\n",
        "print('Dynamic Quant Size:', convert_size(dynamic_quant_size), 'bytes')\n",
        "print('Float16 Quant Size:', convert_size(float16_quant_size), 'bytes')\n",
        "print('Int Quant Size:', convert_size(int_quant_size), 'bytes')"
      ],
      "metadata": {
        "colab": {
          "base_uri": "https://localhost:8080/"
        },
        "id": "tFC36CG8kc_V",
        "outputId": "65bcb653-96b4-4b1c-fc30-2cb8d7097676"
      },
      "execution_count": null,
      "outputs": [
        {
          "output_type": "stream",
          "name": "stdout",
          "text": [
            "Normal Model\n",
            "TFLite Size: 82.83 KB bytes\n",
            "Dynamic Quant Size: 23.5 KB bytes\n",
            "Float16 Quant Size: 43.58 KB bytes\n",
            "Int Quant Size: 24.03 KB bytes\n"
          ]
        }
      ]
    },
    {
      "cell_type": "code",
      "source": [
        "tflite_size = os.path.getsize('/content/tflite_q_aware_models/base_model.tflite')\n",
        "dynamic_quant_size = os.path.getsize('/content/tflite_q_aware_models/dynamic_quant_model.tflite')\n",
        "float16_quant_size = os.path.getsize('/content/tflite_q_aware_models/float16_quant_model.tflite')\n",
        "int_quant_size = os.path.getsize('/content/tflite_q_aware_models/int_quant_model.tflite')\n",
        "\n",
        "print('Q-Aware Model')\n",
        "print('TFLite Size:', convert_size(tflite_size), 'bytes')\n",
        "print('Dynamic Quant Size:', convert_size(dynamic_quant_size), 'bytes')\n",
        "print('Float16 Quant Size:', convert_size(float16_quant_size), 'bytes')\n",
        "print('Int Quant Size:', convert_size(int_quant_size), 'bytes')"
      ],
      "metadata": {
        "colab": {
          "base_uri": "https://localhost:8080/"
        },
        "id": "rJqR0havkhle",
        "outputId": "2236e4fb-93c9-43cd-ae63-c90ed5f90c93"
      },
      "execution_count": null,
      "outputs": [
        {
          "output_type": "stream",
          "name": "stdout",
          "text": [
            "Q-Aware Model\n",
            "TFLite Size: 85.94 KB bytes\n",
            "Dynamic Quant Size: 24.53 KB bytes\n",
            "Float16 Quant Size: 24.53 KB bytes\n",
            "Int Quant Size: 24.54 KB bytes\n"
          ]
        }
      ]
    }
  ]
}